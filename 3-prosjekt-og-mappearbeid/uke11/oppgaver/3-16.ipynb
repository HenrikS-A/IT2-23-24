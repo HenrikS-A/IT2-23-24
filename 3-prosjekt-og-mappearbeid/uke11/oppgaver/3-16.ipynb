{
 "cells": [
  {
   "cell_type": "markdown",
   "metadata": {},
   "source": [
    "## Oppgave 2.16 (Eksamen V23 oppgave 6)"
   ]
  },
  {
   "cell_type": "code",
   "execution_count": 16,
   "metadata": {},
   "outputs": [
    {
     "name": "stdout",
     "output_type": "stream",
     "text": [
      "Ikke bestått\n"
     ]
    }
   ],
   "source": [
    "poengsum = int(input(\"Skriv inn poengsummen din: \"))\n",
    "\n",
    "if poengsum < 50:\n",
    "    print(\"Ikke bestått\")\n",
    "elif poengsum > 50 and poengsum < 69:\n",
    "    print(\"Bestått\")\n",
    "elif poengsum > 70 and poengsum < 89:\n",
    "    print(\"Godt bestått\")\n",
    "elif poengsum > 90 and poengsum < 100:\n",
    "    print(\"Meget godt bestått - framifrå!\")\n",
    "else:\n",
    "    print(\"Ikke gyldig poengsum!\")\n"
   ]
  },
  {
   "cell_type": "markdown",
   "metadata": {},
   "source": [
    "## 6A:\n",
    "\n",
    "### Testplan\n",
    "\n",
    "1. Ikke bestått\n",
    "2. Bestått\n",
    "3. Godt bestått\n",
    "4. Meget godt bestått\n",
    "5. Ikke gyldig poengsum!\n",
    "6. Ikke bestått\n",
    "7. Ikke gyldig poengsum! <---\n",
    "8. Ikke gyldig poengsum! <---\n",
    "9. Ikke gyldig poengsum! <---\n",
    "10. Ikke gyldig poengsum! <---\n",
    "11. Ikke gyldig poengsum! <---\n",
    "12. Ikke gyldig poengsum! <---\n",
    "13. Ikke bestått <---\n"
   ]
  },
  {
   "cell_type": "markdown",
   "metadata": {},
   "source": [
    "## 6B:\n",
    "\n",
    "Er de forventede resultatene like de faktiske resultatene? Hvis ikke: Finn de logiske feilene i pseudokoden som forårsaker det. Skriv inn og forklar svaret ditt.\n",
    "\n",
    "Svar:\n",
    "\n",
    "Nei. Det er logiske feil som gjør at hvis jeg velger en poengsum som akkurat er i overgangen av en ny karakter, så blir den ikke tatt med i beregningen, og det printes ut feil melding. Dette skjer også for verdier som er under 0."
   ]
  },
  {
   "cell_type": "markdown",
   "metadata": {},
   "source": [
    "## 6C:"
   ]
  },
  {
   "cell_type": "code",
   "execution_count": 18,
   "metadata": {},
   "outputs": [
    {
     "name": "stdout",
     "output_type": "stream",
     "text": [
      "Godt bestått\n"
     ]
    }
   ],
   "source": [
    "poengsum = int(input(\"Skriv inn poengsummen din: \"))\n",
    "\n",
    "if poengsum < 50 and poengsum >= 0:\n",
    "    print(\"Ikke bestått\")\n",
    "elif poengsum >= 50 and poengsum <= 69:\n",
    "    print(\"Bestått\")\n",
    "elif poengsum >= 70 and poengsum <= 89:\n",
    "    print(\"Godt bestått\")\n",
    "elif poengsum >= 90 and poengsum <= 100:\n",
    "    print(\"Meget godt bestått - framifrå!\")\n",
    "else:\n",
    "    print(\"Ikke gyldig poengsum!\")\n"
   ]
  }
 ],
 "metadata": {
  "kernelspec": {
   "display_name": "Python 3",
   "language": "python",
   "name": "python3"
  },
  "language_info": {
   "codemirror_mode": {
    "name": "ipython",
    "version": 3
   },
   "file_extension": ".py",
   "mimetype": "text/x-python",
   "name": "python",
   "nbconvert_exporter": "python",
   "pygments_lexer": "ipython3",
   "version": "3.11.6"
  }
 },
 "nbformat": 4,
 "nbformat_minor": 2
}
