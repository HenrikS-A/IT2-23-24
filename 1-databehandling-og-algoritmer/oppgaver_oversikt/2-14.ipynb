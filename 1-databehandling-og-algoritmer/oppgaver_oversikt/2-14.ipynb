{
 "cells": [
  {
   "cell_type": "markdown",
   "metadata": {},
   "source": [
    "## Oppgave 2.14"
   ]
  },
  {
   "cell_type": "markdown",
   "metadata": {},
   "source": [
    "### 1:"
   ]
  },
  {
   "cell_type": "markdown",
   "metadata": {},
   "source": [
    "- Svar: C"
   ]
  },
  {
   "cell_type": "markdown",
   "metadata": {},
   "source": [
    "### 2:"
   ]
  },
  {
   "cell_type": "markdown",
   "metadata": {},
   "source": [
    "```pseudo\n",
    "\n",
    "    FUNCTION byttPlass(a, i)\n",
    "        SET midlertidig TO a[i]\n",
    "        SET a[i] TO a[i+1]\n",
    "        SET a[i+1] TO midlertidig\n",
    "    ENDFUNCTION\n",
    "\n",
    "    SET a TO lista som skal sorteres\n",
    "    SET n TO lengden av a\n",
    "    SET bytting TO TRUE\n",
    "\n",
    "    WHILE bytting\n",
    "        SET bytting TO FALSE\n",
    "\n",
    "\n",
    "        SET i TO 0\n",
    "        FOR hver i LESSER THAN n - 1\n",
    "            IF a[i] GREATER THAN a[i+1]    \n",
    "                CALL byttPlass (a, i)\n",
    "                SET bytting TO TRUE\n",
    "            ENDIF\n",
    "        ENDFOR\n",
    "    ENDWHILE\n",
    "\n",
    "    DISPLAY a\n",
    "\n",
    "    ```\n",
    "\n",
    "    - Jeg har laget pseudokode for byttPlass() funksjonen.\n",
    "    - While-loop rundt for-løkken som vi fikk som kjører til tall ikke bytter plass lengre."
   ]
  },
  {
   "cell_type": "markdown",
   "metadata": {},
   "source": [
    "### 3"
   ]
  },
  {
   "cell_type": "code",
   "execution_count": 3,
   "metadata": {},
   "outputs": [
    {
     "name": "stdout",
     "output_type": "stream",
     "text": [
      "[2, 4, 4, 7, 9]\n"
     ]
    }
   ],
   "source": [
    "def byttPlass(a: list, i: int):\n",
    "    midlertidig = a[i]\n",
    "    a[i] = a[i+1]\n",
    "    a[i+1] = midlertidig\n",
    "\n",
    "a = [4, 7, 2, 4, 9]\n",
    "n = len(a)\n",
    "bytting = True\n",
    "\n",
    "while bytting:\n",
    "    bytting = False\n",
    "    for i in range(n-1):\n",
    "        if a[i] > a[i+1]:\n",
    "            byttPlass(a, i)\n",
    "            bytting = True\n",
    "\n",
    "print(a)\n"
   ]
  }
 ],
 "metadata": {
  "kernelspec": {
   "display_name": "Python 3",
   "language": "python",
   "name": "python3"
  },
  "language_info": {
   "codemirror_mode": {
    "name": "ipython",
    "version": 3
   },
   "file_extension": ".py",
   "mimetype": "text/x-python",
   "name": "python",
   "nbconvert_exporter": "python",
   "pygments_lexer": "ipython3",
   "version": "3.11.6"
  }
 },
 "nbformat": 4,
 "nbformat_minor": 2
}
