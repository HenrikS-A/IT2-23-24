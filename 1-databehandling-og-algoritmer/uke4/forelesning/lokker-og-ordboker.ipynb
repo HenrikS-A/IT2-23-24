{
 "cells": [
  {
   "cell_type": "markdown",
   "metadata": {},
   "source": [
    "# Løkker og ordbøker"
   ]
  },
  {
   "cell_type": "markdown",
   "metadata": {},
   "source": [
    "## Eksempel: For-løkke og ordbok"
   ]
  },
  {
   "cell_type": "code",
   "execution_count": 1,
   "metadata": {},
   "outputs": [],
   "source": [
    "lærer = {\n",
    "    \"navn\": \"Henrik Strøm-Andersen\",\n",
    "    \"alder\": 18,\n",
    "    \"yrke\": \"elev\",\n",
    "    \"favorittmat\": [\"Taco\", \"Tikka Masala\", \"Pizza\"],\n",
    "    123: \"facorittall\", # Tall kan også være nøkler, men det er litt uvanlig.\n",
    "    (\"alder\", \"yrke\"): [18, \"elev\"] # Tupler (en slags liste) kan også være nøkler, ikke vanlig i IT2\n",
    "}\n",
    "\n",
    "\n"
   ]
  },
  {
   "cell_type": "markdown",
   "metadata": {},
   "source": [
    "## Eksempel: Telling med ordbøker"
   ]
  },
  {
   "cell_type": "code",
   "execution_count": 2,
   "metadata": {},
   "outputs": [],
   "source": [
    "f1_sjåfører = [\n",
    "    {\"navn\": \"Lewis Hamilton\", \"nasjonalitet\": \"britisk\", \"team\": \"Mercedes\", \"bilnummer\": 44},\n",
    "    {\"navn\": \"Daniel Ricciardo\", \"nasjonalitet\": \"australsk\", \"team\": \"McLaren\", \"bilnummer\": 3},\n",
    "    {\"navn\": \"Lando Norris\", \"nasjonalitet\": \"britisk\", \"team\": \"McLaren\", \"bilnummer\": 4},\n",
    "    {\"navn\": \"Esteban Ocon\", \"nasjonalitet\": \"fransk\", \"team\": \"Alpine\", \"bilnummer\": 31},\n",
    "    {\"navn\": \"George Russell\", \"nasjonalitet\": \"britisk\", \"team\": \"Williams\", \"bilnummer\": 63},\n",
    "    {\"navn\": \"Pierre Gasly\", \"nasjonalitet\": \"fransk\", \"team\": \"AlphaTauri\", \"bilnummer\": 10},\n",
    "    # Nye sjåfører\n",
    "    {\"navn\": \"Max Verstappen\", \"nasjonalitet\": \"nederlandsk\", \"team\": \"Red Bull Racing Honda\", \"bilnummer\": 33},\n",
    "    {\"navn\": \"Sergio Perez\", \"nasjonalitet\": \"meksikansk\", \"team\": \"Red Bull Racing Honda\", \"bilnummer\": 11},\n",
    "    {\"navn\": \"Valtteri Bottas\", \"nasjonalitet\": \"finsk\", \"team\": \"Mercedes\", \"bilnummer\": 77},\n",
    "    {\"navn\": \"Charles Leclerc\", \"nasjonalitet\": \"monegaskisk\", \"team\": \"Ferrari\", \"bilnummer\": 16},\n",
    "    {\"navn\": \"Fernando Alonso\", \"nasjonalitet\": \"spansk\", \"team\": \"Alpine\", \"bilnummer\": 14},\n",
    "    {\"navn\": \"Sebastian Vettel\", \"nasjonalitet\": \"tysk\", \"team\": \"Aston Martin Mercedes\", \"bilnummer\": 5},\n",
    "    {\"navn\": \"Lance Stroll\", \"nasjonalitet\": \"kanadisk\", \"team\": \"Aston Martin Mercedes\", \"bilnummer\": 18},\n",
    "    {\"navn\": \"Yuki Tsunoda\", \"nasjonalitet\": \"japansk\", \"team\": \"AlphaTauri Honda\", \"bilnummer\": 22},\n",
    "    {\"navn\": \"Kimi Räikkönen\", \"nasjonalitet\": \"finsk\", \"team\": \"Alfa Romeo Racing Ferrari\", \"bilnummer\": 7},\n",
    "    {\"navn\": \"Nicholas Latifi\", \"nasjonalitet\": \"kanadisk\", \"team\": \"Williams Mercedes\", \"bilnummer\": 6},\n",
    "    {\"navn\": \"Antonio Giovinazzi\", \"nasjonalitet\": \"italiensk\", \"team\": \"Alfa Romeo Racing Ferrari\", \"bilnummer\": 99},\n",
    "    {\"navn\": \"Mick Schumacher\", \"nasjonalitet\": \"tysk\", \"team\": \"Haas Ferrari\", \"bilnummer\": 47},\n",
    "    {\"navn\": \"Nikita Mazepin\", \"nasjonalitet\": \"russisk\", \"team\": \"Haas Ferrari\", \"bilnummer\": 9},\n",
    "]"
   ]
  },
  {
   "cell_type": "code",
   "execution_count": 3,
   "metadata": {},
   "outputs": [
    {
     "name": "stdout",
     "output_type": "stream",
     "text": [
      "3\n"
     ]
    }
   ],
   "source": [
    "antall_briter = 0\n",
    "for sjåfør in f1_sjåfører:\n",
    "    if sjåfør[\"nasjonalitet\"] == \"britisk\":\n",
    "        antall_briter += 1\n",
    "\n",
    "print(antall_briter)"
   ]
  },
  {
   "cell_type": "code",
   "execution_count": 5,
   "metadata": {},
   "outputs": [
    {
     "name": "stdout",
     "output_type": "stream",
     "text": [
      "{'britisk': 3, 'australsk': 1, 'fransk': 2, 'nederlandsk': 1, 'meksikansk': 1, 'finsk': 2, 'monegaskisk': 1, 'spansk': 1, 'tysk': 2, 'kanadisk': 2, 'japansk': 1, 'italiensk': 1, 'russisk': 1}\n"
     ]
    }
   ],
   "source": [
    "nasjonaliteter = {}\n",
    "for sjåfør in f1_sjåfører:\n",
    "    nasjonalitet = sjåfør[\"nasjonalitet\"]\n",
    "    if nasjonalitet not in nasjonaliteter:\n",
    "        nasjonaliteter[nasjonalitet] = 1\n",
    "    else:\n",
    "        nasjonaliteter[nasjonalitet] += 1\n",
    "\n",
    "print(nasjonaliteter)\n"
   ]
  }
 ],
 "metadata": {
  "kernelspec": {
   "display_name": "Python 3",
   "language": "python",
   "name": "python3"
  },
  "language_info": {
   "codemirror_mode": {
    "name": "ipython",
    "version": 3
   },
   "file_extension": ".py",
   "mimetype": "text/x-python",
   "name": "python",
   "nbconvert_exporter": "python",
   "pygments_lexer": "ipython3",
   "version": "3.11.6"
  }
 },
 "nbformat": 4,
 "nbformat_minor": 2
}
