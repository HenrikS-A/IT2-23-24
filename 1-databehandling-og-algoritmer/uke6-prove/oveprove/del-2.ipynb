{
 "cells": [
  {
   "cell_type": "markdown",
   "metadata": {},
   "source": [
    "# DEL 2"
   ]
  },
  {
   "cell_type": "code",
   "execution_count": 6,
   "metadata": {},
   "outputs": [],
   "source": [
    "import json\n",
    "\n",
    "with open(\"stortinget.json\", encoding=\"utf-8\") as fil:\n",
    "    data = json.load(fil)\n",
    "    "
   ]
  },
  {
   "cell_type": "code",
   "execution_count": null,
   "metadata": {},
   "outputs": [],
   "source": [
    "## 1:\n",
    "\n",
    "for politiker in data[\"representanter_liste\"]:\n",
    "    print(f\"{politiker['fornavn']} {politiker['etternavn']}, {politiker['parti']['navn']}\")"
   ]
  },
  {
   "cell_type": "code",
   "execution_count": null,
   "metadata": {},
   "outputs": [],
   "source": [
    "## 3:\n",
    "\n",
    "parti_antall = {}\n",
    "for politiker in data[\"representanter_liste\"]:\n",
    "    if politiker[\"parti\"][\"navn\"] not in parti_antall.keys():\n",
    "        parti_antall[ politiker[\"parti\"][\"navn\"] ] = 1\n",
    "    else:\n",
    "        parti_antall[ politiker[\"parti\"][\"navn\"] ] += 1\n",
    "\n",
    "print(parti_antall)\n"
   ]
  },
  {
   "cell_type": "code",
   "execution_count": null,
   "metadata": {},
   "outputs": [],
   "source": [
    "## 2:\n",
    "\n",
    "parti_antall_sortert = sorted(parti_antall.items(), key=lambda parti: parti[1], reverse=True)\n",
    "print(parti_antall_sortert[0])\n"
   ]
  },
  {
   "cell_type": "code",
   "execution_count": null,
   "metadata": {},
   "outputs": [],
   "source": [
    "## 4:\n",
    "\n",
    "import matplotlib.pyplot as plt\n",
    "\n",
    "partier = [parti[0] for parti in parti_antall_sortert]\n",
    "antall_rep = [parti[1] for parti in parti_antall_sortert]\n",
    "\n",
    "plt.bar(partier, antall_rep)\n",
    "\n",
    "## Verdier over søylene\n",
    "for i, antall in enumerate(antall_rep):\n",
    "    plt.text(i, antall + 0.3, str(antall), horizontalalignment=\"center\")\n",
    "\n",
    "plt.xticks(rotation=90) # Roterer teksten til x_verdiene med 90 grader\n",
    "\n",
    "plt.title(\"Antall representanter i hvert parti\")\n",
    "plt.xlabel(\"Parti\")\n",
    "plt.ylabel(\"Representanter\")\n",
    "plt.show()\n"
   ]
  },
  {
   "cell_type": "code",
   "execution_count": null,
   "metadata": {},
   "outputs": [],
   "source": [
    "## 5:\n",
    "\n",
    "antall_partier = 0\n",
    "sum_representanter = 0\n",
    "for parti in parti_antall_sortert:\n",
    "    sum_representanter += parti[1]\n",
    "    antall_partier += 1\n",
    "\n",
    "snitt = sum_representanter/antall_partier\n",
    "print(snitt)\n"
   ]
  }
 ],
 "metadata": {
  "kernelspec": {
   "display_name": "Python 3",
   "language": "python",
   "name": "python3"
  },
  "language_info": {
   "codemirror_mode": {
    "name": "ipython",
    "version": 3
   },
   "file_extension": ".py",
   "mimetype": "text/x-python",
   "name": "python",
   "nbconvert_exporter": "python",
   "pygments_lexer": "ipython3",
   "version": "3.11.6"
  }
 },
 "nbformat": 4,
 "nbformat_minor": 2
}
