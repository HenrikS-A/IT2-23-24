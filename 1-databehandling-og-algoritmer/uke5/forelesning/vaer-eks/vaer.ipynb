{
 "cells": [
  {
   "cell_type": "markdown",
   "metadata": {},
   "source": [
    "# Værapp-eksempel"
   ]
  },
  {
   "cell_type": "code",
   "execution_count": 10,
   "metadata": {},
   "outputs": [
    {
     "name": "stdout",
     "output_type": "stream",
     "text": [
      "-2 Sunny 2\n"
     ]
    }
   ],
   "source": [
    "import requests\n",
    "\n",
    "sted = input(\"Sted: \")\n",
    "url = f\"https://wttr.in/{sted}?format=j1\"\n",
    "respons = requests.get(url)\n",
    "data = respons.json()\n",
    "\n",
    "foles_som = data[\"current_condition\"][0][\"FeelsLikeC\"]\n",
    "vaertype = data[\"current_condition\"][0][\"weatherDesc\"][0][\"value\"]\n",
    "temp = data[\"current_condition\"][0][\"temp_C\"]\n",
    "\n",
    "\n",
    "print(foles_som, vaertype, temp)\n"
   ]
  },
  {
   "cell_type": "code",
   "execution_count": 12,
   "metadata": {},
   "outputs": [
    {
     "data": {
      "text/plain": [
       "('Partly cloudy', '1')"
      ]
     },
     "execution_count": 12,
     "metadata": {},
     "output_type": "execute_result"
    }
   ],
   "source": [
    "\n",
    "def vaer(sted):\n",
    "    url = f\"https://wttr.in/{sted}?format=j1\"\n",
    "    respons = requests.get(url)\n",
    "    data = respons.json()\n",
    "\n",
    "    foles_som = data[\"current_condition\"][0][\"FeelsLikeC\"]\n",
    "    vaertype = data[\"current_condition\"][0][\"weatherDesc\"][0][\"value\"]\n",
    "    temp = data[\"current_condition\"][0][\"temp_C\"]\n",
    "\n",
    "    return vaertype, temp\n",
    "\n",
    "vaer(\"Oslo\")\n"
   ]
  }
 ],
 "metadata": {
  "kernelspec": {
   "display_name": "Python 3",
   "language": "python",
   "name": "python3"
  },
  "language_info": {
   "codemirror_mode": {
    "name": "ipython",
    "version": 3
   },
   "file_extension": ".py",
   "mimetype": "text/x-python",
   "name": "python",
   "nbconvert_exporter": "python",
   "pygments_lexer": "ipython3",
   "version": "3.11.6"
  }
 },
 "nbformat": 4,
 "nbformat_minor": 2
}
