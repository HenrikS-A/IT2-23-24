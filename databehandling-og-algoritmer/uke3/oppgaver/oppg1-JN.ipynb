{
 "cells": [
  {
   "cell_type": "markdown",
   "metadata": {},
   "source": [
    "# Oppgave 1"
   ]
  },
  {
   "cell_type": "code",
   "execution_count": 12,
   "metadata": {},
   "outputs": [],
   "source": [
    "import json\n",
    "with open(\"spotify-weekly-top-songs-global.json\",encoding=\"utf-8\") as fil:\n",
    "    sanger = json.load(fil)"
   ]
  },
  {
   "cell_type": "markdown",
   "metadata": {},
   "source": [
    "### Del 1:"
   ]
  },
  {
   "cell_type": "code",
   "execution_count": 14,
   "metadata": {},
   "outputs": [
    {
     "name": "stdout",
     "output_type": "stream",
     "text": [
      "Imagine Dragons: Believer, 358 uker\n",
      "120017297 streams\n"
     ]
    }
   ],
   "source": [
    "hoyeste_antall_uker = 0\n",
    "sangene = []\n",
    "for sang in sanger:\n",
    "    if sang[\"uker_paa_listen\"] > hoyeste_antall_uker:\n",
    "        hoyeste_antall_uker = sang[\"uker_paa_listen\"]\n",
    "        sangene = [sang]\n",
    "    elif sang[\"uker_paa_listen\"] == hoyeste_antall_uker:\n",
    "        sangene.append(sang)\n",
    "\n",
    "for sang in sangene:\n",
    "    print(f\"{sang['artist']}: {sang['navn']}, {hoyeste_antall_uker} uker\")\n",
    "\n",
    "\n",
    "## Del 2:\n",
    "taylor_streams = 0\n",
    "for sang in sanger:\n",
    "    if sang[\"artist\"] == \"Taylor Swift\":\n",
    "        taylor_streams += sang[\"antall_streams\"]\n",
    "print(f\"{taylor_streams} streams\")"
   ]
  },
  {
   "cell_type": "markdown",
   "metadata": {},
   "source": [
    "### Del 2:"
   ]
  },
  {
   "cell_type": "code",
   "execution_count": 15,
   "metadata": {},
   "outputs": [
    {
     "name": "stdout",
     "output_type": "stream",
     "text": [
      "120017297 streams\n"
     ]
    }
   ],
   "source": [
    "taylor_streams = 0\n",
    "for sang in sanger:\n",
    "    if sang[\"artist\"] == \"Taylor Swift\":\n",
    "        taylor_streams += sang[\"antall_streams\"]\n",
    "print(f\"{taylor_streams} streams\")"
   ]
  },
  {
   "cell_type": "markdown",
   "metadata": {},
   "source": [
    "### Del 3:"
   ]
  },
  {
   "cell_type": "code",
   "execution_count": 16,
   "metadata": {},
   "outputs": [
    {
     "name": "stdout",
     "output_type": "stream",
     "text": [
      "Sophie Ellis-Bextor: Murder On The Dancefloor, 110 plasser opp\n"
     ]
    }
   ],
   "source": [
    "flest_antall_plasser = -999999\n",
    "sangene = []\n",
    "for sang in sanger:\n",
    "\n",
    "    if sang[\"forrige_plassering\"] == -1:\n",
    "        sang[\"forrige_plassering\"] = 251\n",
    "\n",
    "    plass_delta = sang[\"forrige_plassering\"] - sang[\"plassering\"]\n",
    "    \n",
    "    if plass_delta > flest_antall_plasser:\n",
    "        flest_antall_plasser = plass_delta\n",
    "        sangene = [sang]\n",
    "    elif plass_delta == flest_antall_plasser:\n",
    "        sangene.append(sang)\n",
    "\n",
    "for sang in sangene:\n",
    "    print(f\"{sang['artist']}: {sang['navn']}, {flest_antall_plasser} plasser opp\")"
   ]
  }
 ],
 "metadata": {
  "kernelspec": {
   "display_name": "Python 3",
   "language": "python",
   "name": "python3"
  },
  "language_info": {
   "codemirror_mode": {
    "name": "ipython",
    "version": 3
   },
   "file_extension": ".py",
   "mimetype": "text/x-python",
   "name": "python",
   "nbconvert_exporter": "python",
   "pygments_lexer": "ipython3",
   "version": "3.11.6"
  }
 },
 "nbformat": 4,
 "nbformat_minor": 2
}
