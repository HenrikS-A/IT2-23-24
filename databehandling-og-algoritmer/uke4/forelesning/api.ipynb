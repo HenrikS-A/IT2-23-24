{
 "cells": [
  {
   "cell_type": "code",
   "execution_count": 4,
   "metadata": {},
   "outputs": [
    {
     "name": "stdout",
     "output_type": "stream",
     "text": [
      "7 DIAMONDS\n",
      "10 SPADES\n"
     ]
    }
   ],
   "source": [
    "# API-er\n",
    "import requests\n",
    "\n",
    "respons = requests.get(\"https://deckofcardsapi.com/api/deck/new/draw/?count=2\")\n",
    "data = respons.json()\n",
    "hånd = data[\"cards\"]\n",
    "for kort in hånd:\n",
    "    print(kort[\"value\"], kort[\"suit\"])"
   ]
  }
 ],
 "metadata": {
  "kernelspec": {
   "display_name": "Python 3",
   "language": "python",
   "name": "python3"
  },
  "language_info": {
   "codemirror_mode": {
    "name": "ipython",
    "version": 3
   },
   "file_extension": ".py",
   "mimetype": "text/x-python",
   "name": "python",
   "nbconvert_exporter": "python",
   "pygments_lexer": "ipython3",
   "version": "3.11.6"
  }
 },
 "nbformat": 4,
 "nbformat_minor": 2
}
